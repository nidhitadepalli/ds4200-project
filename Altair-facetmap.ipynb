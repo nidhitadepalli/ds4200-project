{
 "cells": [
  {
   "cell_type": "code",
   "execution_count": null,
   "metadata": {},
   "outputs": [],
   "source": [
    "import altair as alt\n",
    "import pandas as pd\n",
    "import warnings\n",
    "warnings.simplefilter(action='ignore', category=FutureWarning)\n",
    "df = pd.read_csv('shopping_trends_updated.csv')\n",
    "df.head()\n",
    "df.info()\n",
    "# Create a scale selection for zooming\n",
    "zoom = alt.selection_interval(bind='scales')\n",
    "\n",
    "# Scatter plot with zoom functionality\n",
    "chart = alt.Chart(df).mark_point(size=10, shape='square').encode(\n",
    "    x=alt.X('Age:Q', title='Age', scale=alt.Scale(domain=[18, 70])),  # Adjust the initial domain if needed\n",
    "    y=alt.Y('Purchase Amount (USD):Q', title='Purchase Amount (USD)', scale=alt.Scale(type='log')),\n",
    "    color=alt.Color('Gender:N', title='Gender', scale=alt.Scale(domain=['Male', 'Female'], range=['#1f77b4', '#ff69b4'])),  # Blue for Male, Pink for Female\n",
    "    tooltip=['Age', 'Purchase Amount (USD)', 'Gender']\n",
    ").add_selection(\n",
    "    zoom  # Add zoom selection\n",
    ").facet(\n",
    "    column='Gender:N',\n",
    "    title='Gender-Specific Trends'\n",
    ").properties(\n",
    "    title='Age vs. Purchase Amount by Gender'\n",
    ").configure_view(\n",
    "    stroke='transparent'\n",
    ").configure_facet(\n",
    "    spacing=20  # Increase spacing between facets\n",
    ")\n",
    "\n",
    "chart"
   ]
  },
  {
   "cell_type": "markdown",
   "metadata": {},
   "source": []
  }
 ],
 "metadata": {
  "language_info": {
   "name": "python"
  }
 },
 "nbformat": 4,
 "nbformat_minor": 2
}
